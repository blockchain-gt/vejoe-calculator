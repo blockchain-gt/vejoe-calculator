{
 "cells": [
  {
   "cell_type": "markdown",
   "id": "24f93e31",
   "metadata": {},
   "source": [
    "# veJOE Boost Calculator\n",
    "\n",
    "## requirements.txt\n",
    "```\n",
    "requests\n",
    "web3\n",
    "eth_abi\n",
    "```"
   ]
  },
  {
   "cell_type": "code",
   "execution_count": 29,
   "id": "70ea75b5",
   "metadata": {},
   "outputs": [],
   "source": [
    "from web3 import Web3\n",
    "import json, eth_abi\n",
    "rpc = \"https://api.avax.network/ext/bc/C/rpc\"\n",
    "web3 = Web3(Web3.HTTPProvider(rpc))"
   ]
  },
  {
   "cell_type": "code",
   "execution_count": 26,
   "id": "075ec481",
   "metadata": {},
   "outputs": [],
   "source": [
    "JLP_abi = json.load(open(\"../abi/JLP_abi.json\"))\n",
    "veJOE_abi = json.load(open(\"../abi/veJOE_abi.json\"))\n",
    "LPS = {\n",
    "    \"USDC/USDCe\" : {\n",
    "        \"JLP\": \"0x2A8A315e82F85D1f0658C5D66A452Bbdd9356783\",\n",
    "        \"tokenAContractAddr\": \"\",\n",
    "        \"tokenBContractAddr\": \"\",\n",
    "        \"tokenASymbolURL\": \"\",\n",
    "        \"tokenBSymbolURL\": \"\",\n",
    "    }\n",
    "}"
   ]
  },
  {
   "cell_type": "code",
   "execution_count": 27,
   "id": "bdd922c6",
   "metadata": {},
   "outputs": [
    {
     "data": {
      "text/plain": [
       "0.5873449796433704"
      ]
     },
     "execution_count": 27,
     "metadata": {},
     "output_type": "execute_result"
    }
   ],
   "source": [
    "wallet = '0x4483f0b6e2F5486D06958C20f8C39A7aBe87bf8F'\n",
    "JLP_contract = web3.eth.contract(address=LPS[\"USDC/USDCe\"][\"JLP\"],abi=JLP_abi)\n",
    "JLP_user_balance = JLP_contract.functions.balanceOf(wallet).call()\n",
    "JLP_total_supply = JLP_contract.functions.totalSupply().call()\n",
    "pool_share = JLP_user_balance/JLP_total_supply\n",
    "pool_share"
   ]
  },
  {
   "cell_type": "code",
   "execution_count": 28,
   "id": "67673026",
   "metadata": {},
   "outputs": [
    {
     "data": {
      "text/plain": [
       "6.842063402136636e-05"
      ]
     },
     "execution_count": 28,
     "metadata": {},
     "output_type": "execute_result"
    }
   ],
   "source": [
    "veJOE_contract = web3.eth.contract(address=\"0x3cabf341943Bc8466245e4d6F1ae0f8D071a1456\",abi=veJOE_abi)\n",
    "veJOE_user_balance = veJOE_contract.functions.balanceOf(\"0x500fBF102936bD6D470D6aCA7E54427216bb47BA\").call()\n",
    "veJOE_total_supply = veJOE_contract.functions.totalSupply().call()\n",
    "veJOE_share = veJOE_user_balance/veJOE_total_supply\n",
    "veJOE_share"
   ]
  },
  {
   "cell_type": "markdown",
   "id": "24c63ccf",
   "metadata": {},
   "source": [
    "# PROBLEM\n",
    "\n",
    "https://snowtrace.io/address/0x4483f0b6e2F5486D06958C20f8C39A7aBe87bf8F#readProxyContract\n",
    "\n",
    "Need to query the poolInfo struct from this contract ^^\n",
    "\n",
    "(Solved) :)"
   ]
  },
  {
   "cell_type": "code",
   "execution_count": 43,
   "id": "486c9287",
   "metadata": {},
   "outputs": [
    {
     "data": {
      "text/plain": [
       "['0xeb8eB6300c53C3AddBb7382Ff6c6FbC4165B0742',\n",
       " 200,\n",
       " 8952335954023206822,\n",
       " 7259021498135710322,\n",
       " 1649266663,\n",
       " '0x0000000000000000000000000000000000000000',\n",
       " 4000,\n",
       " 115947484745738240515675,\n",
       " 6411558227718705132900]"
      ]
     },
     "execution_count": 43,
     "metadata": {},
     "output_type": "execute_result"
    }
   ],
   "source": [
    "bmc_abi = json.load(open(\"../abi/BoostedMasterChefJoe_abi1.json\"))\n",
    "bmc = web3.eth.contract(address=\"0x4483f0b6e2F5486D06958C20f8C39A7aBe87bf8F\",abi=bmc_abi)\n",
    "bmc.functions.poolInfo(11).call()"
   ]
  },
  {
   "cell_type": "code",
   "execution_count": 44,
   "id": "9453e70b",
   "metadata": {},
   "outputs": [
    {
     "ename": "ABIFunctionNotFound",
     "evalue": "(\"The function 'poolInfo' was not found in this contract's abi. \", 'Are you sure you provided the correct contract abi?')",
     "output_type": "error",
     "traceback": [
      "\u001b[1;31m---------------------------------------------------------------------------\u001b[0m",
      "\u001b[1;31mABIFunctionNotFound\u001b[0m                       Traceback (most recent call last)",
      "\u001b[1;32mc:\\Users\\Ryan\\Documents\\GitHub\\vejoe-calc\\python\\contract_interaction.ipynb Cell 8'\u001b[0m in \u001b[0;36m<cell line: 3>\u001b[1;34m()\u001b[0m\n\u001b[0;32m      <a href='vscode-notebook-cell:/c%3A/Users/Ryan/Documents/GitHub/vejoe-calc/python/contract_interaction.ipynb#ch0000007?line=0'>1</a>\u001b[0m bmc_abi \u001b[39m=\u001b[39m json\u001b[39m.\u001b[39mload(\u001b[39mopen\u001b[39m(\u001b[39m\"\u001b[39m\u001b[39m../abi/BoostedMasterChefJoe_abi2.json\u001b[39m\u001b[39m\"\u001b[39m))\n\u001b[0;32m      <a href='vscode-notebook-cell:/c%3A/Users/Ryan/Documents/GitHub/vejoe-calc/python/contract_interaction.ipynb#ch0000007?line=1'>2</a>\u001b[0m bmc \u001b[39m=\u001b[39m web3\u001b[39m.\u001b[39meth\u001b[39m.\u001b[39mcontract(address\u001b[39m=\u001b[39m\u001b[39m\"\u001b[39m\u001b[39m0x4483f0b6e2F5486D06958C20f8C39A7aBe87bf8F\u001b[39m\u001b[39m\"\u001b[39m,abi\u001b[39m=\u001b[39mbmc_abi)\n\u001b[1;32m----> <a href='vscode-notebook-cell:/c%3A/Users/Ryan/Documents/GitHub/vejoe-calc/python/contract_interaction.ipynb#ch0000007?line=2'>3</a>\u001b[0m bmc\u001b[39m.\u001b[39;49mfunctions\u001b[39m.\u001b[39;49mpoolInfo(\u001b[39m11\u001b[39m)\u001b[39m.\u001b[39mcall()\n",
      "File \u001b[1;32m~\\AppData\\Local\\Programs\\Python\\Python310\\lib\\site-packages\\web3\\contract.py:194\u001b[0m, in \u001b[0;36mContractFunctions.__getattr__\u001b[1;34m(self, function_name)\u001b[0m\n\u001b[0;32m    <a href='file:///c%3A/Users/Ryan/AppData/Local/Programs/Python/Python310/lib/site-packages/web3/contract.py?line=188'>189</a>\u001b[0m     \u001b[39mraise\u001b[39;00m NoABIFunctionsFound(\n\u001b[0;32m    <a href='file:///c%3A/Users/Ryan/AppData/Local/Programs/Python/Python310/lib/site-packages/web3/contract.py?line=189'>190</a>\u001b[0m         \u001b[39m\"\u001b[39m\u001b[39mThe abi for this contract contains no function definitions. \u001b[39m\u001b[39m\"\u001b[39m,\n\u001b[0;32m    <a href='file:///c%3A/Users/Ryan/AppData/Local/Programs/Python/Python310/lib/site-packages/web3/contract.py?line=190'>191</a>\u001b[0m         \u001b[39m\"\u001b[39m\u001b[39mAre you sure you provided the correct contract abi?\u001b[39m\u001b[39m\"\u001b[39m\n\u001b[0;32m    <a href='file:///c%3A/Users/Ryan/AppData/Local/Programs/Python/Python310/lib/site-packages/web3/contract.py?line=191'>192</a>\u001b[0m     )\n\u001b[0;32m    <a href='file:///c%3A/Users/Ryan/AppData/Local/Programs/Python/Python310/lib/site-packages/web3/contract.py?line=192'>193</a>\u001b[0m \u001b[39melif\u001b[39;00m function_name \u001b[39mnot\u001b[39;00m \u001b[39min\u001b[39;00m \u001b[39mself\u001b[39m\u001b[39m.\u001b[39m\u001b[39m__dict__\u001b[39m[\u001b[39m'\u001b[39m\u001b[39m_functions\u001b[39m\u001b[39m'\u001b[39m]:\n\u001b[1;32m--> <a href='file:///c%3A/Users/Ryan/AppData/Local/Programs/Python/Python310/lib/site-packages/web3/contract.py?line=193'>194</a>\u001b[0m     \u001b[39mraise\u001b[39;00m ABIFunctionNotFound(\n\u001b[0;32m    <a href='file:///c%3A/Users/Ryan/AppData/Local/Programs/Python/Python310/lib/site-packages/web3/contract.py?line=194'>195</a>\u001b[0m         \u001b[39m\"\u001b[39m\u001b[39mThe function \u001b[39m\u001b[39m'\u001b[39m\u001b[39m{}\u001b[39;00m\u001b[39m'\u001b[39m\u001b[39m was not found in this contract\u001b[39m\u001b[39m'\u001b[39m\u001b[39ms abi. \u001b[39m\u001b[39m\"\u001b[39m\u001b[39m.\u001b[39mformat(function_name),\n\u001b[0;32m    <a href='file:///c%3A/Users/Ryan/AppData/Local/Programs/Python/Python310/lib/site-packages/web3/contract.py?line=195'>196</a>\u001b[0m         \u001b[39m\"\u001b[39m\u001b[39mAre you sure you provided the correct contract abi?\u001b[39m\u001b[39m\"\u001b[39m\n\u001b[0;32m    <a href='file:///c%3A/Users/Ryan/AppData/Local/Programs/Python/Python310/lib/site-packages/web3/contract.py?line=196'>197</a>\u001b[0m     )\n\u001b[0;32m    <a href='file:///c%3A/Users/Ryan/AppData/Local/Programs/Python/Python310/lib/site-packages/web3/contract.py?line=197'>198</a>\u001b[0m \u001b[39melse\u001b[39;00m:\n\u001b[0;32m    <a href='file:///c%3A/Users/Ryan/AppData/Local/Programs/Python/Python310/lib/site-packages/web3/contract.py?line=198'>199</a>\u001b[0m     \u001b[39mreturn\u001b[39;00m \u001b[39msuper\u001b[39m()\u001b[39m.\u001b[39m\u001b[39m__getattribute__\u001b[39m(function_name)\n",
      "\u001b[1;31mABIFunctionNotFound\u001b[0m: (\"The function 'poolInfo' was not found in this contract's abi. \", 'Are you sure you provided the correct contract abi?')"
     ]
    }
   ],
   "source": [
    "bmc_abi = json.load(open(\"../abi/BoostedMasterChefJoe_abi2.json\"))\n",
    "bmc = web3.eth.contract(address=\"0x4483f0b6e2F5486D06958C20f8C39A7aBe87bf8F\",abi=bmc_abi)\n",
    "bmc.functions.poolInfo(11).call()"
   ]
  },
  {
   "cell_type": "code",
   "execution_count": null,
   "id": "542f55ca",
   "metadata": {},
   "outputs": [],
   "source": [
    "# ptf = 1\n",
    "# rps = 0.6*(pool_share*jps) + (((JLP_user_balance*veJOE_user_balance)**0.5)*jps*0.4)/ptf\n",
    "# rps"
   ]
  },
  {
   "cell_type": "code",
   "execution_count": null,
   "id": "187a2944",
   "metadata": {},
   "outputs": [],
   "source": []
  }
 ],
 "metadata": {
  "kernelspec": {
   "display_name": "Python 3 (ipykernel)",
   "language": "python",
   "name": "python3"
  },
  "language_info": {
   "codemirror_mode": {
    "name": "ipython",
    "version": 3
   },
   "file_extension": ".py",
   "mimetype": "text/x-python",
   "name": "python",
   "nbconvert_exporter": "python",
   "pygments_lexer": "ipython3",
   "version": "3.10.0"
  }
 },
 "nbformat": 4,
 "nbformat_minor": 5
}
