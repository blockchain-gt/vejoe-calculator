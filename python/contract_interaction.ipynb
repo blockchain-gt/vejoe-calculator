{
 "cells": [
  {
   "cell_type": "markdown",
   "id": "24f93e31",
   "metadata": {},
   "source": [
    "# veJOE Boost Calculator\n",
    "\n",
    "## requirements.txt\n",
    "```\n",
    "requests\n",
    "web3\n",
    "eth_abi\n",
    "```"
   ]
  },
  {
   "cell_type": "code",
   "execution_count": 29,
   "id": "70ea75b5",
   "metadata": {},
   "outputs": [],
   "source": [
    "from web3 import Web3\n",
    "from eth_abi import decode_single, de\n",
    "import json, eth_abi\n",
    "import ethers\n",
    "rpc = \"https://api.avax.network/ext/bc/C/rpc\"\n",
    "web3 = Web3(Web3.HTTPProvider(rpc))"
   ]
  },
  {
   "cell_type": "code",
   "execution_count": 26,
   "id": "075ec481",
   "metadata": {},
   "outputs": [],
   "source": [
    "JLP_abi = json.load(open(\"../abi/JLP_abi.json\"))\n",
    "veJOE_abi = json.load(open(\"../abi/veJOE_abi.json\"))\n",
    "LPS = {\n",
    "    \"USDC/USDCe\" : {\n",
    "        \"JLP\": \"0x2A8A315e82F85D1f0658C5D66A452Bbdd9356783\",\n",
    "        \"tokenAContractAddr\": \"\",\n",
    "        \"tokenBContractAddr\": \"\",\n",
    "        \"tokenASymbolURL\": \"\",\n",
    "        \"tokenBSymbolURL\": \"\",\n",
    "    }\n",
    "}"
   ]
  },
  {
   "cell_type": "code",
   "execution_count": 27,
   "id": "bdd922c6",
   "metadata": {},
   "outputs": [
    {
     "data": {
      "text/plain": [
       "0.5873449796433704"
      ]
     },
     "execution_count": 27,
     "metadata": {},
     "output_type": "execute_result"
    }
   ],
   "source": [
    "wallet = '0x4483f0b6e2F5486D06958C20f8C39A7aBe87bf8F'\n",
    "JLP_contract = web3.eth.contract(address=LPS[\"USDC/USDCe\"][\"JLP\"],abi=JLP_abi)\n",
    "JLP_user_balance = JLP_contract.functions.balanceOf(wallet).call()\n",
    "JLP_total_supply = JLP_contract.functions.totalSupply().call()\n",
    "pool_share = JLP_user_balance/JLP_total_supply\n",
    "pool_share"
   ]
  },
  {
   "cell_type": "code",
   "execution_count": 28,
   "id": "67673026",
   "metadata": {},
   "outputs": [
    {
     "data": {
      "text/plain": [
       "6.842063402136636e-05"
      ]
     },
     "execution_count": 28,
     "metadata": {},
     "output_type": "execute_result"
    }
   ],
   "source": [
    "veJOE_contract = web3.eth.contract(address=\"0x3cabf341943Bc8466245e4d6F1ae0f8D071a1456\",abi=veJOE_abi)\n",
    "veJOE_user_balance = veJOE_contract.functions.balanceOf(\"0x500fBF102936bD6D470D6aCA7E54427216bb47BA\").call()\n",
    "veJOE_total_supply = veJOE_contract.functions.totalSupply().call()\n",
    "veJOE_share = veJOE_user_balance/veJOE_total_supply\n",
    "veJOE_share"
   ]
  },
  {
   "cell_type": "markdown",
   "id": "24c63ccf",
   "metadata": {},
   "source": [
    "# PROBLEM\n",
    "\n",
    "https://snowtrace.io/address/0x4483f0b6e2F5486D06958C20f8C39A7aBe87bf8F#readProxyContract\n",
    "\n",
    "Need to query the poolInfo struct from this contract ^^"
   ]
  },
  {
   "cell_type": "code",
   "execution_count": 42,
   "id": "486c9287",
   "metadata": {},
   "outputs": [
    {
     "ename": "BadFunctionCallOutput",
     "evalue": "Could not decode contract function call to poolInfo with return data: b'\\x00\\x00\\x00\\x00\\x00\\x00\\x00\\x00\\x00\\x00\\x00\\x00\\x8f\\xb5\\xbd:\\xc8\\xef\\xd0]\\xac\\xae\\x82\\xf5\\x12\\xdd\\x03\\xe1J\\xad\\xabs\\x00\\x00\\x00\\x00\\x00\\x00\\x00\\x00\\x00\\x00\\x00\\x00\\x00\\x00\\x00\\x00\\x00\\x00\\x00\\x00\\x00\\x00\\x00\\x00\\x1f\\xae\\x83\\x99\\xb3\\xfd\\xa8\\xfd\\x00\\x00\\x00\\x00\\x00\\x00\\x00\\x00\\x00\\x00\\x00\\x00\\x00\\x00\\x00\\x00\\x00\\x00\\x00\\x00\\x00\\x00\\x00\\x00\\x00\\x00\\x00\\x00bL\\x85g\\x00\\x00\\x00\\x00\\x00\\x00\\x00\\x00\\x00\\x00\\x00\\x00\\x00\\x00\\x00\\x00\\x00\\x00\\x00\\x00\\x00\\x00\\x00\\x00\\x00\\x00\\x00\\x00\\x00\\x00\\x00\\x00\\x00\\x00\\x00\\x00\\x00\\x00\\x00\\x00\\x00\\x00\\x00\\x00\\x02\\x08\\xa6\\xaa\\x8a\\xc26\\xb5\\xf5\\xfd\\x01\\xd8\\x14\\xb7\\xec\\xcf\\r\\x9a\\xeb~', output_types: ['address', 'uint96', 'uint256', 'uint256', 'uint64', 'address', 'uint32', 'uint256', 'uint256']",
     "output_type": "error",
     "traceback": [
      "\u001b[1;31m---------------------------------------------------------------------------\u001b[0m",
      "\u001b[1;31mNonEmptyPaddingBytes\u001b[0m                      Traceback (most recent call last)",
      "File \u001b[1;32m~\\AppData\\Local\\Programs\\Python\\Python310\\lib\\site-packages\\web3\\contract.py:1513\u001b[0m, in \u001b[0;36mcall_contract_function\u001b[1;34m(web3, address, normalizers, function_identifier, transaction, block_id, contract_abi, fn_abi, state_override, *args, **kwargs)\u001b[0m\n\u001b[0;32m   <a href='file:///c%3A/Users/Ryan/AppData/Local/Programs/Python/Python310/lib/site-packages/web3/contract.py?line=1511'>1512</a>\u001b[0m \u001b[39mtry\u001b[39;00m:\n\u001b[1;32m-> <a href='file:///c%3A/Users/Ryan/AppData/Local/Programs/Python/Python310/lib/site-packages/web3/contract.py?line=1512'>1513</a>\u001b[0m     output_data \u001b[39m=\u001b[39m web3\u001b[39m.\u001b[39;49mcodec\u001b[39m.\u001b[39;49mdecode_abi(output_types, return_data)\n\u001b[0;32m   <a href='file:///c%3A/Users/Ryan/AppData/Local/Programs/Python/Python310/lib/site-packages/web3/contract.py?line=1513'>1514</a>\u001b[0m \u001b[39mexcept\u001b[39;00m DecodingError \u001b[39mas\u001b[39;00m e:\n\u001b[0;32m   <a href='file:///c%3A/Users/Ryan/AppData/Local/Programs/Python/Python310/lib/site-packages/web3/contract.py?line=1514'>1515</a>\u001b[0m     \u001b[39m# Provide a more helpful error message than the one provided by\u001b[39;00m\n\u001b[0;32m   <a href='file:///c%3A/Users/Ryan/AppData/Local/Programs/Python/Python310/lib/site-packages/web3/contract.py?line=1515'>1516</a>\u001b[0m     \u001b[39m# eth-abi-utils\u001b[39;00m\n",
      "File \u001b[1;32m~\\AppData\\Local\\Programs\\Python\\Python310\\lib\\site-packages\\eth_abi\\codec.py:181\u001b[0m, in \u001b[0;36mABIDecoder.decode_abi\u001b[1;34m(self, types, data)\u001b[0m\n\u001b[0;32m    <a href='file:///c%3A/Users/Ryan/AppData/Local/Programs/Python/Python310/lib/site-packages/eth_abi/codec.py?line=178'>179</a>\u001b[0m stream \u001b[39m=\u001b[39m \u001b[39mself\u001b[39m\u001b[39m.\u001b[39mstream_class(data)\n\u001b[1;32m--> <a href='file:///c%3A/Users/Ryan/AppData/Local/Programs/Python/Python310/lib/site-packages/eth_abi/codec.py?line=180'>181</a>\u001b[0m \u001b[39mreturn\u001b[39;00m decoder(stream)\n",
      "File \u001b[1;32m~\\AppData\\Local\\Programs\\Python\\Python310\\lib\\site-packages\\eth_abi\\decoding.py:127\u001b[0m, in \u001b[0;36mBaseDecoder.__call__\u001b[1;34m(self, stream)\u001b[0m\n\u001b[0;32m    <a href='file:///c%3A/Users/Ryan/AppData/Local/Programs/Python/Python310/lib/site-packages/eth_abi/decoding.py?line=125'>126</a>\u001b[0m \u001b[39mdef\u001b[39;00m \u001b[39m__call__\u001b[39m(\u001b[39mself\u001b[39m, stream: ContextFramesBytesIO) \u001b[39m-\u001b[39m\u001b[39m>\u001b[39m Any:\n\u001b[1;32m--> <a href='file:///c%3A/Users/Ryan/AppData/Local/Programs/Python/Python310/lib/site-packages/eth_abi/decoding.py?line=126'>127</a>\u001b[0m     \u001b[39mreturn\u001b[39;00m \u001b[39mself\u001b[39;49m\u001b[39m.\u001b[39;49mdecode(stream)\n",
      "File \u001b[1;32m~\\AppData\\Local\\Programs\\Python\\Python310\\lib\\site-packages\\eth_utils\\functional.py:45\u001b[0m, in \u001b[0;36mapply_to_return_value.<locals>.outer.<locals>.inner\u001b[1;34m(*args, **kwargs)\u001b[0m\n\u001b[0;32m     <a href='file:///c%3A/Users/Ryan/AppData/Local/Programs/Python/Python310/lib/site-packages/eth_utils/functional.py?line=42'>43</a>\u001b[0m \u001b[39m@functools\u001b[39m\u001b[39m.\u001b[39mwraps(fn)\n\u001b[0;32m     <a href='file:///c%3A/Users/Ryan/AppData/Local/Programs/Python/Python310/lib/site-packages/eth_utils/functional.py?line=43'>44</a>\u001b[0m \u001b[39mdef\u001b[39;00m \u001b[39minner\u001b[39m(\u001b[39m*\u001b[39margs, \u001b[39m*\u001b[39m\u001b[39m*\u001b[39mkwargs) \u001b[39m-\u001b[39m\u001b[39m>\u001b[39m T:  \u001b[39m# type: ignore\u001b[39;00m\n\u001b[1;32m---> <a href='file:///c%3A/Users/Ryan/AppData/Local/Programs/Python/Python310/lib/site-packages/eth_utils/functional.py?line=44'>45</a>\u001b[0m     \u001b[39mreturn\u001b[39;00m callback(fn(\u001b[39m*\u001b[39;49margs, \u001b[39m*\u001b[39;49m\u001b[39m*\u001b[39;49mkwargs))\n",
      "File \u001b[1;32m~\\AppData\\Local\\Programs\\Python\\Python310\\lib\\site-packages\\eth_abi\\decoding.py:173\u001b[0m, in \u001b[0;36mTupleDecoder.decode\u001b[1;34m(self, stream)\u001b[0m\n\u001b[0;32m    <a href='file:///c%3A/Users/Ryan/AppData/Local/Programs/Python/Python310/lib/site-packages/eth_abi/decoding.py?line=171'>172</a>\u001b[0m \u001b[39mfor\u001b[39;00m decoder \u001b[39min\u001b[39;00m \u001b[39mself\u001b[39m\u001b[39m.\u001b[39mdecoders:\n\u001b[1;32m--> <a href='file:///c%3A/Users/Ryan/AppData/Local/Programs/Python/Python310/lib/site-packages/eth_abi/decoding.py?line=172'>173</a>\u001b[0m     \u001b[39myield\u001b[39;00m decoder(stream)\n",
      "File \u001b[1;32m~\\AppData\\Local\\Programs\\Python\\Python310\\lib\\site-packages\\eth_abi\\decoding.py:127\u001b[0m, in \u001b[0;36mBaseDecoder.__call__\u001b[1;34m(self, stream)\u001b[0m\n\u001b[0;32m    <a href='file:///c%3A/Users/Ryan/AppData/Local/Programs/Python/Python310/lib/site-packages/eth_abi/decoding.py?line=125'>126</a>\u001b[0m \u001b[39mdef\u001b[39;00m \u001b[39m__call__\u001b[39m(\u001b[39mself\u001b[39m, stream: ContextFramesBytesIO) \u001b[39m-\u001b[39m\u001b[39m>\u001b[39m Any:\n\u001b[1;32m--> <a href='file:///c%3A/Users/Ryan/AppData/Local/Programs/Python/Python310/lib/site-packages/eth_abi/decoding.py?line=126'>127</a>\u001b[0m     \u001b[39mreturn\u001b[39;00m \u001b[39mself\u001b[39;49m\u001b[39m.\u001b[39;49mdecode(stream)\n",
      "File \u001b[1;32m~\\AppData\\Local\\Programs\\Python\\Python310\\lib\\site-packages\\eth_abi\\decoding.py:201\u001b[0m, in \u001b[0;36mSingleDecoder.decode\u001b[1;34m(self, stream)\u001b[0m\n\u001b[0;32m    <a href='file:///c%3A/Users/Ryan/AppData/Local/Programs/Python/Python310/lib/site-packages/eth_abi/decoding.py?line=199'>200</a>\u001b[0m value \u001b[39m=\u001b[39m \u001b[39mself\u001b[39m\u001b[39m.\u001b[39mdecoder_fn(data)\n\u001b[1;32m--> <a href='file:///c%3A/Users/Ryan/AppData/Local/Programs/Python/Python310/lib/site-packages/eth_abi/decoding.py?line=200'>201</a>\u001b[0m \u001b[39mself\u001b[39;49m\u001b[39m.\u001b[39;49mvalidate_padding_bytes(value, padding_bytes)\n\u001b[0;32m    <a href='file:///c%3A/Users/Ryan/AppData/Local/Programs/Python/Python310/lib/site-packages/eth_abi/decoding.py?line=202'>203</a>\u001b[0m \u001b[39mreturn\u001b[39;00m value\n",
      "File \u001b[1;32m~\\AppData\\Local\\Programs\\Python\\Python310\\lib\\site-packages\\eth_abi\\decoding.py:332\u001b[0m, in \u001b[0;36mFixedByteSizeDecoder.validate_padding_bytes\u001b[1;34m(self, value, padding_bytes)\u001b[0m\n\u001b[0;32m    <a href='file:///c%3A/Users/Ryan/AppData/Local/Programs/Python/Python310/lib/site-packages/eth_abi/decoding.py?line=330'>331</a>\u001b[0m \u001b[39mif\u001b[39;00m padding_bytes \u001b[39m!=\u001b[39m \u001b[39mb\u001b[39m\u001b[39m'\u001b[39m\u001b[39m\\x00\u001b[39;00m\u001b[39m'\u001b[39m \u001b[39m*\u001b[39m padding_size:\n\u001b[1;32m--> <a href='file:///c%3A/Users/Ryan/AppData/Local/Programs/Python/Python310/lib/site-packages/eth_abi/decoding.py?line=331'>332</a>\u001b[0m     \u001b[39mraise\u001b[39;00m NonEmptyPaddingBytes(\n\u001b[0;32m    <a href='file:///c%3A/Users/Ryan/AppData/Local/Programs/Python/Python310/lib/site-packages/eth_abi/decoding.py?line=332'>333</a>\u001b[0m         \u001b[39m\"\u001b[39m\u001b[39mPadding bytes were not empty: \u001b[39m\u001b[39m{0}\u001b[39;00m\u001b[39m\"\u001b[39m\u001b[39m.\u001b[39mformat(\u001b[39mrepr\u001b[39m(padding_bytes))\n\u001b[0;32m    <a href='file:///c%3A/Users/Ryan/AppData/Local/Programs/Python/Python310/lib/site-packages/eth_abi/decoding.py?line=333'>334</a>\u001b[0m     )\n",
      "\u001b[1;31mNonEmptyPaddingBytes\u001b[0m: Padding bytes were not empty: b'\\x00\\x00\\x00\\x00\\x00\\x00\\x00\\x00\\x00\\x00\\x00\\x00\\x02\\x08\\xa6\\xaa\\x8a\\xc26\\xb5\\xf5\\xfd\\x01\\xd8'",
      "\nThe above exception was the direct cause of the following exception:\n",
      "\u001b[1;31mBadFunctionCallOutput\u001b[0m                     Traceback (most recent call last)",
      "\u001b[1;32mc:\\Users\\Ryan\\Documents\\GitHub\\vejoe-calc\\python\\contract_interaction.ipynb Cell 7'\u001b[0m in \u001b[0;36m<cell line: 4>\u001b[1;34m()\u001b[0m\n\u001b[0;32m      <a href='vscode-notebook-cell:/c%3A/Users/Ryan/Documents/GitHub/vejoe-calc/python/contract_interaction.ipynb#ch0000006?line=0'>1</a>\u001b[0m bmc_abi \u001b[39m=\u001b[39m json\u001b[39m.\u001b[39mload(\u001b[39mopen\u001b[39m(\u001b[39m\"\u001b[39m\u001b[39m../abi/BoostedMasterChefJoe_abi1.json\u001b[39m\u001b[39m\"\u001b[39m))\n\u001b[0;32m      <a href='vscode-notebook-cell:/c%3A/Users/Ryan/Documents/GitHub/vejoe-calc/python/contract_interaction.ipynb#ch0000006?line=2'>3</a>\u001b[0m bmc \u001b[39m=\u001b[39m web3\u001b[39m.\u001b[39meth\u001b[39m.\u001b[39mcontract(address\u001b[39m=\u001b[39m\u001b[39m\"\u001b[39m\u001b[39m0x188bED1968b795d5c9022F6a0bb5931Ac4c18F00\u001b[39m\u001b[39m\"\u001b[39m,abi\u001b[39m=\u001b[39mbmc_abi)\n\u001b[1;32m----> <a href='vscode-notebook-cell:/c%3A/Users/Ryan/Documents/GitHub/vejoe-calc/python/contract_interaction.ipynb#ch0000006?line=3'>4</a>\u001b[0m bmc\u001b[39m.\u001b[39;49mfunctions\u001b[39m.\u001b[39;49mpoolInfo(\u001b[39m11\u001b[39;49m)\u001b[39m.\u001b[39;49mcall()\n",
      "File \u001b[1;32m~\\AppData\\Local\\Programs\\Python\\Python310\\lib\\site-packages\\web3\\contract.py:957\u001b[0m, in \u001b[0;36mContractFunction.call\u001b[1;34m(self, transaction, block_identifier, state_override)\u001b[0m\n\u001b[0;32m    <a href='file:///c%3A/Users/Ryan/AppData/Local/Programs/Python/Python310/lib/site-packages/web3/contract.py?line=950'>951</a>\u001b[0m         \u001b[39mraise\u001b[39;00m \u001b[39mValueError\u001b[39;00m(\n\u001b[0;32m    <a href='file:///c%3A/Users/Ryan/AppData/Local/Programs/Python/Python310/lib/site-packages/web3/contract.py?line=951'>952</a>\u001b[0m             \u001b[39m\"\u001b[39m\u001b[39mPlease ensure that this contract instance has an address.\u001b[39m\u001b[39m\"\u001b[39m\n\u001b[0;32m    <a href='file:///c%3A/Users/Ryan/AppData/Local/Programs/Python/Python310/lib/site-packages/web3/contract.py?line=952'>953</a>\u001b[0m         )\n\u001b[0;32m    <a href='file:///c%3A/Users/Ryan/AppData/Local/Programs/Python/Python310/lib/site-packages/web3/contract.py?line=954'>955</a>\u001b[0m block_id \u001b[39m=\u001b[39m parse_block_identifier(\u001b[39mself\u001b[39m\u001b[39m.\u001b[39mweb3, block_identifier)\n\u001b[1;32m--> <a href='file:///c%3A/Users/Ryan/AppData/Local/Programs/Python/Python310/lib/site-packages/web3/contract.py?line=956'>957</a>\u001b[0m \u001b[39mreturn\u001b[39;00m call_contract_function(\n\u001b[0;32m    <a href='file:///c%3A/Users/Ryan/AppData/Local/Programs/Python/Python310/lib/site-packages/web3/contract.py?line=957'>958</a>\u001b[0m     \u001b[39mself\u001b[39m\u001b[39m.\u001b[39mweb3,\n\u001b[0;32m    <a href='file:///c%3A/Users/Ryan/AppData/Local/Programs/Python/Python310/lib/site-packages/web3/contract.py?line=958'>959</a>\u001b[0m     \u001b[39mself\u001b[39m\u001b[39m.\u001b[39maddress,\n\u001b[0;32m    <a href='file:///c%3A/Users/Ryan/AppData/Local/Programs/Python/Python310/lib/site-packages/web3/contract.py?line=959'>960</a>\u001b[0m     \u001b[39mself\u001b[39m\u001b[39m.\u001b[39m_return_data_normalizers,\n\u001b[0;32m    <a href='file:///c%3A/Users/Ryan/AppData/Local/Programs/Python/Python310/lib/site-packages/web3/contract.py?line=960'>961</a>\u001b[0m     \u001b[39mself\u001b[39m\u001b[39m.\u001b[39mfunction_identifier,\n\u001b[0;32m    <a href='file:///c%3A/Users/Ryan/AppData/Local/Programs/Python/Python310/lib/site-packages/web3/contract.py?line=961'>962</a>\u001b[0m     call_transaction,\n\u001b[0;32m    <a href='file:///c%3A/Users/Ryan/AppData/Local/Programs/Python/Python310/lib/site-packages/web3/contract.py?line=962'>963</a>\u001b[0m     block_id,\n\u001b[0;32m    <a href='file:///c%3A/Users/Ryan/AppData/Local/Programs/Python/Python310/lib/site-packages/web3/contract.py?line=963'>964</a>\u001b[0m     \u001b[39mself\u001b[39m\u001b[39m.\u001b[39mcontract_abi,\n\u001b[0;32m    <a href='file:///c%3A/Users/Ryan/AppData/Local/Programs/Python/Python310/lib/site-packages/web3/contract.py?line=964'>965</a>\u001b[0m     \u001b[39mself\u001b[39m\u001b[39m.\u001b[39mabi,\n\u001b[0;32m    <a href='file:///c%3A/Users/Ryan/AppData/Local/Programs/Python/Python310/lib/site-packages/web3/contract.py?line=965'>966</a>\u001b[0m     state_override,\n\u001b[0;32m    <a href='file:///c%3A/Users/Ryan/AppData/Local/Programs/Python/Python310/lib/site-packages/web3/contract.py?line=966'>967</a>\u001b[0m     \u001b[39m*\u001b[39m\u001b[39mself\u001b[39m\u001b[39m.\u001b[39margs,\n\u001b[0;32m    <a href='file:///c%3A/Users/Ryan/AppData/Local/Programs/Python/Python310/lib/site-packages/web3/contract.py?line=967'>968</a>\u001b[0m     \u001b[39m*\u001b[39m\u001b[39m*\u001b[39m\u001b[39mself\u001b[39m\u001b[39m.\u001b[39mkwargs\n\u001b[0;32m    <a href='file:///c%3A/Users/Ryan/AppData/Local/Programs/Python/Python310/lib/site-packages/web3/contract.py?line=968'>969</a>\u001b[0m )\n",
      "File \u001b[1;32m~\\AppData\\Local\\Programs\\Python\\Python310\\lib\\site-packages\\web3\\contract.py:1530\u001b[0m, in \u001b[0;36mcall_contract_function\u001b[1;34m(web3, address, normalizers, function_identifier, transaction, block_id, contract_abi, fn_abi, state_override, *args, **kwargs)\u001b[0m\n\u001b[0;32m   <a href='file:///c%3A/Users/Ryan/AppData/Local/Programs/Python/Python310/lib/site-packages/web3/contract.py?line=1524'>1525</a>\u001b[0m     \u001b[39melse\u001b[39;00m:\n\u001b[0;32m   <a href='file:///c%3A/Users/Ryan/AppData/Local/Programs/Python/Python310/lib/site-packages/web3/contract.py?line=1525'>1526</a>\u001b[0m         msg \u001b[39m=\u001b[39m (\n\u001b[0;32m   <a href='file:///c%3A/Users/Ryan/AppData/Local/Programs/Python/Python310/lib/site-packages/web3/contract.py?line=1526'>1527</a>\u001b[0m             \u001b[39mf\u001b[39m\u001b[39m\"\u001b[39m\u001b[39mCould not decode contract function call to \u001b[39m\u001b[39m{\u001b[39;00mfunction_identifier\u001b[39m}\u001b[39;00m\u001b[39m with \u001b[39m\u001b[39m\"\u001b[39m\n\u001b[0;32m   <a href='file:///c%3A/Users/Ryan/AppData/Local/Programs/Python/Python310/lib/site-packages/web3/contract.py?line=1527'>1528</a>\u001b[0m             \u001b[39mf\u001b[39m\u001b[39m\"\u001b[39m\u001b[39mreturn data: \u001b[39m\u001b[39m{\u001b[39;00m\u001b[39mstr\u001b[39m(return_data)\u001b[39m}\u001b[39;00m\u001b[39m, output_types: \u001b[39m\u001b[39m{\u001b[39;00moutput_types\u001b[39m}\u001b[39;00m\u001b[39m\"\u001b[39m\n\u001b[0;32m   <a href='file:///c%3A/Users/Ryan/AppData/Local/Programs/Python/Python310/lib/site-packages/web3/contract.py?line=1528'>1529</a>\u001b[0m         )\n\u001b[1;32m-> <a href='file:///c%3A/Users/Ryan/AppData/Local/Programs/Python/Python310/lib/site-packages/web3/contract.py?line=1529'>1530</a>\u001b[0m     \u001b[39mraise\u001b[39;00m BadFunctionCallOutput(msg) \u001b[39mfrom\u001b[39;00m \u001b[39me\u001b[39;00m\n\u001b[0;32m   <a href='file:///c%3A/Users/Ryan/AppData/Local/Programs/Python/Python310/lib/site-packages/web3/contract.py?line=1531'>1532</a>\u001b[0m _normalizers \u001b[39m=\u001b[39m itertools\u001b[39m.\u001b[39mchain(\n\u001b[0;32m   <a href='file:///c%3A/Users/Ryan/AppData/Local/Programs/Python/Python310/lib/site-packages/web3/contract.py?line=1532'>1533</a>\u001b[0m     BASE_RETURN_NORMALIZERS,\n\u001b[0;32m   <a href='file:///c%3A/Users/Ryan/AppData/Local/Programs/Python/Python310/lib/site-packages/web3/contract.py?line=1533'>1534</a>\u001b[0m     normalizers,\n\u001b[0;32m   <a href='file:///c%3A/Users/Ryan/AppData/Local/Programs/Python/Python310/lib/site-packages/web3/contract.py?line=1534'>1535</a>\u001b[0m )\n\u001b[0;32m   <a href='file:///c%3A/Users/Ryan/AppData/Local/Programs/Python/Python310/lib/site-packages/web3/contract.py?line=1535'>1536</a>\u001b[0m normalized_data \u001b[39m=\u001b[39m map_abi_data(_normalizers, output_types, output_data)\n",
      "\u001b[1;31mBadFunctionCallOutput\u001b[0m: Could not decode contract function call to poolInfo with return data: b'\\x00\\x00\\x00\\x00\\x00\\x00\\x00\\x00\\x00\\x00\\x00\\x00\\x8f\\xb5\\xbd:\\xc8\\xef\\xd0]\\xac\\xae\\x82\\xf5\\x12\\xdd\\x03\\xe1J\\xad\\xabs\\x00\\x00\\x00\\x00\\x00\\x00\\x00\\x00\\x00\\x00\\x00\\x00\\x00\\x00\\x00\\x00\\x00\\x00\\x00\\x00\\x00\\x00\\x00\\x00\\x1f\\xae\\x83\\x99\\xb3\\xfd\\xa8\\xfd\\x00\\x00\\x00\\x00\\x00\\x00\\x00\\x00\\x00\\x00\\x00\\x00\\x00\\x00\\x00\\x00\\x00\\x00\\x00\\x00\\x00\\x00\\x00\\x00\\x00\\x00\\x00\\x00bL\\x85g\\x00\\x00\\x00\\x00\\x00\\x00\\x00\\x00\\x00\\x00\\x00\\x00\\x00\\x00\\x00\\x00\\x00\\x00\\x00\\x00\\x00\\x00\\x00\\x00\\x00\\x00\\x00\\x00\\x00\\x00\\x00\\x00\\x00\\x00\\x00\\x00\\x00\\x00\\x00\\x00\\x00\\x00\\x00\\x00\\x02\\x08\\xa6\\xaa\\x8a\\xc26\\xb5\\xf5\\xfd\\x01\\xd8\\x14\\xb7\\xec\\xcf\\r\\x9a\\xeb~', output_types: ['address', 'uint96', 'uint256', 'uint256', 'uint64', 'address', 'uint32', 'uint256', 'uint256']"
     ]
    }
   ],
   "source": [
    "bmc_abi = json.load(open(\"../abi/BoostedMasterChefJoe_abi1.json\"))\n",
    "bmc = web3.eth.contract(address=\"0x188bED1968b795d5c9022F6a0bb5931Ac4c18F00\",abi=bmc_abi)\n",
    "bmc.functions.poolInfo(11).call()"
   ]
  },
  {
   "cell_type": "code",
   "execution_count": 94,
   "id": "9453e70b",
   "metadata": {},
   "outputs": [
    {
     "ename": "ABIFunctionNotFound",
     "evalue": "(\"The function 'poolInfo' was not found in this contract's abi. \", 'Are you sure you provided the correct contract abi?')",
     "output_type": "error",
     "traceback": [
      "\u001b[1;31m---------------------------------------------------------------------------\u001b[0m",
      "\u001b[1;31mABIFunctionNotFound\u001b[0m                       Traceback (most recent call last)",
      "\u001b[1;32m~\\AppData\\Local\\Temp/ipykernel_13780/777001050.py\u001b[0m in \u001b[0;36m<module>\u001b[1;34m\u001b[0m\n\u001b[0;32m      1\u001b[0m \u001b[0mbmc_abi\u001b[0m \u001b[1;33m=\u001b[0m \u001b[0mjson\u001b[0m\u001b[1;33m.\u001b[0m\u001b[0mload\u001b[0m\u001b[1;33m(\u001b[0m\u001b[0mopen\u001b[0m\u001b[1;33m(\u001b[0m\u001b[1;34m\"../abi/BoostedMasterChefJoe_abi2.json\"\u001b[0m\u001b[1;33m)\u001b[0m\u001b[1;33m)\u001b[0m\u001b[1;33m\u001b[0m\u001b[1;33m\u001b[0m\u001b[0m\n\u001b[0;32m      2\u001b[0m \u001b[0mbmc\u001b[0m \u001b[1;33m=\u001b[0m \u001b[0mweb3\u001b[0m\u001b[1;33m.\u001b[0m\u001b[0meth\u001b[0m\u001b[1;33m.\u001b[0m\u001b[0mcontract\u001b[0m\u001b[1;33m(\u001b[0m\u001b[0maddress\u001b[0m\u001b[1;33m=\u001b[0m\u001b[1;34m\"0x188bED1968b795d5c9022F6a0bb5931Ac4c18F00\"\u001b[0m\u001b[1;33m,\u001b[0m\u001b[0mabi\u001b[0m\u001b[1;33m=\u001b[0m\u001b[0mbmc_abi\u001b[0m\u001b[1;33m)\u001b[0m\u001b[1;33m\u001b[0m\u001b[1;33m\u001b[0m\u001b[0m\n\u001b[1;32m----> 3\u001b[1;33m \u001b[0mbmc\u001b[0m\u001b[1;33m.\u001b[0m\u001b[0mfunctions\u001b[0m\u001b[1;33m.\u001b[0m\u001b[0mpoolInfo\u001b[0m\u001b[1;33m(\u001b[0m\u001b[1;36m11\u001b[0m\u001b[1;33m)\u001b[0m\u001b[1;33m.\u001b[0m\u001b[0mcall\u001b[0m\u001b[1;33m(\u001b[0m\u001b[1;33m)\u001b[0m\u001b[1;33m\u001b[0m\u001b[1;33m\u001b[0m\u001b[0m\n\u001b[0m",
      "\u001b[1;32m~\\Anaconda3\\lib\\site-packages\\web3\\contract.py\u001b[0m in \u001b[0;36m__getattr__\u001b[1;34m(self, function_name)\u001b[0m\n\u001b[0;32m    194\u001b[0m             raise ABIFunctionNotFound(\n\u001b[0;32m    195\u001b[0m                 \u001b[1;34m\"The function '{}' was not found in this contract's abi. \"\u001b[0m\u001b[1;33m.\u001b[0m\u001b[0mformat\u001b[0m\u001b[1;33m(\u001b[0m\u001b[0mfunction_name\u001b[0m\u001b[1;33m)\u001b[0m\u001b[1;33m,\u001b[0m\u001b[1;33m\u001b[0m\u001b[1;33m\u001b[0m\u001b[0m\n\u001b[1;32m--> 196\u001b[1;33m                 \u001b[1;34m\"Are you sure you provided the correct contract abi?\"\u001b[0m\u001b[1;33m\u001b[0m\u001b[1;33m\u001b[0m\u001b[0m\n\u001b[0m\u001b[0;32m    197\u001b[0m             )\n\u001b[0;32m    198\u001b[0m         \u001b[1;32melse\u001b[0m\u001b[1;33m:\u001b[0m\u001b[1;33m\u001b[0m\u001b[1;33m\u001b[0m\u001b[0m\n",
      "\u001b[1;31mABIFunctionNotFound\u001b[0m: (\"The function 'poolInfo' was not found in this contract's abi. \", 'Are you sure you provided the correct contract abi?')"
     ]
    }
   ],
   "source": [
    "bmc_abi = json.load(open(\"../abi/BoostedMasterChefJoe_abi2.json\"))\n",
    "bmc = web3.eth.contract(address=\"0x188bED1968b795d5c9022F6a0bb5931Ac4c18F00\",abi=bmc_abi)\n",
    "bmc.functions.poolInfo(11).call()"
   ]
  },
  {
   "cell_type": "code",
   "execution_count": null,
   "id": "542f55ca",
   "metadata": {},
   "outputs": [],
   "source": [
    "# ptf = 1\n",
    "# rps = 0.6*(pool_share*jps) + (((JLP_user_balance*veJOE_user_balance)**0.5)*jps*0.4)/ptf\n",
    "# rps"
   ]
  },
  {
   "cell_type": "code",
   "execution_count": null,
   "id": "187a2944",
   "metadata": {},
   "outputs": [],
   "source": []
  }
 ],
 "metadata": {
  "kernelspec": {
   "display_name": "Python 3 (ipykernel)",
   "language": "python",
   "name": "python3"
  },
  "language_info": {
   "codemirror_mode": {
    "name": "ipython",
    "version": 3
   },
   "file_extension": ".py",
   "mimetype": "text/x-python",
   "name": "python",
   "nbconvert_exporter": "python",
   "pygments_lexer": "ipython3",
   "version": "3.10.0"
  }
 },
 "nbformat": 4,
 "nbformat_minor": 5
}
